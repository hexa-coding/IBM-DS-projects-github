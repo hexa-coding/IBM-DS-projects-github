{
 "cells": [
  {
   "cell_type": "markdown",
   "metadata": {},
   "source": [
    "<h1>IBM Data Science professional certificate.</h1>\n"
   ]
  },
  {
   "cell_type": "markdown",
   "metadata": {},
   "source": [
    "<h1>Introduction:</h1>\n",
    "<p><i>This jupyter notebook is the final graded assignment for module 2 of the IBM data science professional certificate</i></p>"
   ]
  },
  {
   "cell_type": "markdown",
   "metadata": {},
   "source": [
    "<p><b>Below are some examples of widely used data science languages:</b></p>\n",
    "<ul>\n",
    "    <li>Python</li>\n",
    "    <li>R</li>\n",
    "    <li>SQL</li>\n",
    "</ul>"
   ]
  },
  {
   "cell_type": "markdown",
   "metadata": {},
   "source": [
    "<p><b>Below are some examples of data science libraries:</b></p>\n",
    "<ol>\n",
    "    <li>Numpy</li>\n",
    "    <li>Pandas</li>\n",
    "    <li>Matplotlib</li>\n",
    "    <li>Pytorch</li>\n",
    "</ol>"
   ]
  },
  {
   "cell_type": "markdown",
   "metadata": {},
   "source": [
    "<p><b>Below is a table with some data science tools:</b></p>\n",
    "<p>\n",
    "<table>\n",
    "  <tr>\n",
    "    <th>Tool name</th>\n",
    "    <th>Sponsor / Developper</th>\n",
    "    <th>Importance</th>\n",
    "  </tr>\n",
    "  <tr>\n",
    "    <td>Watson Studio</td>\n",
    "    <td>IBM</td>\n",
    "    <td>High</td>\n",
    "  </tr>\n",
    "  <tr>\n",
    "    <td>Apache Spark</td>\n",
    "    <td>Open Source</td>\n",
    "    <td>Medium</td>\n",
    "  </tr>\n",
    "</table>\n",
    "</p>"
   ]
  },
  {
   "cell_type": "markdown",
   "metadata": {},
   "source": [
    "<b>Below are some arithmetic expression examples:</b>"
   ]
  },
  {
   "cell_type": "code",
   "execution_count": 1,
   "metadata": {},
   "outputs": [
    {
     "name": "stdout",
     "output_type": "stream",
     "text": [
      "5 + 4 =  9\n",
      "5 * 4 =  20\n"
     ]
    }
   ],
   "source": [
    "print(\"5 + 4 = \", 5+4)\n",
    "print(\"5 * 4 = \", 5*4)\n",
    "\n"
   ]
  },
  {
   "cell_type": "code",
   "execution_count": 2,
   "metadata": {},
   "outputs": [
    {
     "name": "stdout",
     "output_type": "stream",
     "text": [
      "30 minutes in hours is =  0.5 hours\n"
     ]
    }
   ],
   "source": [
    "print(\"30 minutes in hours is = \", 30/60, \"hours\")"
   ]
  },
  {
   "cell_type": "markdown",
   "metadata": {},
   "source": [
    "<h2>Objectives</h2>\n",
    "<p> Objectives are to use some jupyter notebook basic functions.</p>"
   ]
  },
  {
   "cell_type": "markdown",
   "metadata": {},
   "source": [
    "<h3>Author name:</h3>\n",
    "<p>Didier, UoL student.</p>"
   ]
  },
  {
   "cell_type": "markdown",
   "metadata": {},
   "source": [
    " "
   ]
  },
  {
   "cell_type": "markdown",
   "metadata": {},
   "source": [
    "Thank you for reading."
   ]
  }
 ],
 "metadata": {
  "kernelspec": {
   "display_name": "ml-project1",
   "language": "python",
   "name": "python3"
  },
  "language_info": {
   "codemirror_mode": {
    "name": "ipython",
    "version": 3
   },
   "file_extension": ".py",
   "mimetype": "text/x-python",
   "name": "python",
   "nbconvert_exporter": "python",
   "pygments_lexer": "ipython3",
   "version": "3.10.6"
  },
  "vscode": {
   "interpreter": {
    "hash": "1fd6b256fb15fe9156ed6fd502b9ea319d80e418146a0da67bde6c31388a51f7"
   }
  }
 },
 "nbformat": 4,
 "nbformat_minor": 1
}
